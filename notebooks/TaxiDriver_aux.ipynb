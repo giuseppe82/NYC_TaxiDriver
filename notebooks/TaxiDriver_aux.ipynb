{
 "cells": [
  {
   "cell_type": "markdown",
   "metadata": {},
   "source": [
    "A Data analysis report by Giuseppe Di Bernardo  date: \"September 06, 2016\""
   ]
  },
  {
   "cell_type": "markdown",
   "metadata": {},
   "source": [
    "# Exploring the dataset "
   ]
  },
  {
   "cell_type": "markdown",
   "metadata": {},
   "source": [
    "## Preparing the notebook"
   ]
  },
  {
   "cell_type": "code",
   "execution_count": 1,
   "metadata": {
    "collapsed": false
   },
   "outputs": [],
   "source": [
    "# magic command to display matplotlib plots inline within the ipython notebook webpage\n",
    "%matplotlib inline\n",
    "% config InlineBackend.figure_format='retina'"
   ]
  },
  {
   "cell_type": "code",
   "execution_count": 2,
   "metadata": {
    "collapsed": true
   },
   "outputs": [],
   "source": [
    "# import relevant modules \n",
    "import os\n",
    "\n",
    "import numpy as np\n",
    "import matplotlib.pyplot as plt\n",
    "import pandas as pd\n",
    "import seaborn as sns \n",
    "\n",
    "sns.set(font='sans')"
   ]
  },
  {
   "cell_type": "markdown",
   "metadata": {},
   "source": [
    "## Reading the input file"
   ]
  },
  {
   "cell_type": "code",
   "execution_count": 3,
   "metadata": {
    "collapsed": false
   },
   "outputs": [
    {
     "data": {
      "text/plain": [
       "'../data/yellow_tripdata_2015-06.csv'"
      ]
     },
     "execution_count": 3,
     "metadata": {},
     "output_type": "execute_result"
    }
   ],
   "source": [
    "# dir paths \n",
    "data_dir = (\"../data/\")\n",
    "csv = \"yellow_tripdata_2015-06.csv\"\n",
    "fullcsv = data_dir + csv\n",
    "os.path.normpath(fullcsv)\n",
    "# print(fullcsv)"
   ]
  },
  {
   "cell_type": "markdown",
   "metadata": {},
   "source": [
    "The data provided to the *NYC Taxi and Limousine Commission (TLC)* - by technology providers authorized under the Taxicab & Livery Passenger Enhancement Programs (TPEP/LPEP) - are stored in `CSV` format, and organized by year and month. In each file, each row represents a single taxi trip.  \n",
    "Let's take a look to the data. To this purpose, we will use `pandas` to do all the big data clean up and preparation. Each row of the `yellow_tripdata_.csv file` represents a trip, and the columns are the attributes for these trips. "
   ]
  },
  {
   "cell_type": "code",
   "execution_count": 4,
   "metadata": {
    "collapsed": false
   },
   "outputs": [],
   "source": [
    "# Create a pandas dataframe from the location data set. \n",
    "# Load the location data set and, parse the dates so \n",
    "# they're no longer strings but now rather Python datetime objects\n",
    "# this lets us do date and time based operations on the data set\n",
    "# our data frame\n",
    "df = pd.read_csv(fullcsv, parse_dates=['tpep_pickup_datetime', 'tpep_dropoff_datetime'])"
   ]
  },
  {
   "cell_type": "code",
   "execution_count": 5,
   "metadata": {
    "collapsed": false
   },
   "outputs": [],
   "source": [
    "# uncomment this if you want to get insights of the data types you are dealing with\n",
    "# df.info() "
   ]
  },
  {
   "cell_type": "code",
   "execution_count": 6,
   "metadata": {
    "collapsed": false
   },
   "outputs": [
    {
     "data": {
      "text/html": [
       "<div>\n",
       "<table border=\"1\" class=\"dataframe\">\n",
       "  <thead>\n",
       "    <tr style=\"text-align: right;\">\n",
       "      <th></th>\n",
       "      <th>VendorID</th>\n",
       "      <th>tpep_pickup_datetime</th>\n",
       "      <th>tpep_dropoff_datetime</th>\n",
       "      <th>passenger_count</th>\n",
       "      <th>trip_distance</th>\n",
       "      <th>pickup_longitude</th>\n",
       "      <th>pickup_latitude</th>\n",
       "      <th>RateCodeID</th>\n",
       "      <th>store_and_fwd_flag</th>\n",
       "      <th>dropoff_longitude</th>\n",
       "      <th>dropoff_latitude</th>\n",
       "      <th>payment_type</th>\n",
       "      <th>fare_amount</th>\n",
       "      <th>extra</th>\n",
       "      <th>mta_tax</th>\n",
       "      <th>tip_amount</th>\n",
       "      <th>tolls_amount</th>\n",
       "      <th>improvement_surcharge</th>\n",
       "      <th>total_amount</th>\n",
       "    </tr>\n",
       "  </thead>\n",
       "  <tbody>\n",
       "    <tr>\n",
       "      <th>0</th>\n",
       "      <td>2</td>\n",
       "      <td>2015-06-02 11:19:29</td>\n",
       "      <td>2015-06-02 11:47:52</td>\n",
       "      <td>1</td>\n",
       "      <td>1.63</td>\n",
       "      <td>-73.954430</td>\n",
       "      <td>40.764141</td>\n",
       "      <td>1</td>\n",
       "      <td>N</td>\n",
       "      <td>-73.974754</td>\n",
       "      <td>40.754093</td>\n",
       "      <td>2</td>\n",
       "      <td>17.0</td>\n",
       "      <td>0.0</td>\n",
       "      <td>0.5</td>\n",
       "      <td>0.00</td>\n",
       "      <td>0.0</td>\n",
       "      <td>0.3</td>\n",
       "      <td>17.80</td>\n",
       "    </tr>\n",
       "    <tr>\n",
       "      <th>1</th>\n",
       "      <td>2</td>\n",
       "      <td>2015-06-02 11:19:30</td>\n",
       "      <td>2015-06-02 11:27:56</td>\n",
       "      <td>1</td>\n",
       "      <td>0.46</td>\n",
       "      <td>-73.971443</td>\n",
       "      <td>40.758942</td>\n",
       "      <td>1</td>\n",
       "      <td>N</td>\n",
       "      <td>-73.978539</td>\n",
       "      <td>40.761909</td>\n",
       "      <td>1</td>\n",
       "      <td>6.5</td>\n",
       "      <td>0.0</td>\n",
       "      <td>0.5</td>\n",
       "      <td>1.00</td>\n",
       "      <td>0.0</td>\n",
       "      <td>0.3</td>\n",
       "      <td>8.30</td>\n",
       "    </tr>\n",
       "    <tr>\n",
       "      <th>2</th>\n",
       "      <td>2</td>\n",
       "      <td>2015-06-02 11:19:31</td>\n",
       "      <td>2015-06-02 11:30:30</td>\n",
       "      <td>1</td>\n",
       "      <td>0.87</td>\n",
       "      <td>-73.978111</td>\n",
       "      <td>40.738434</td>\n",
       "      <td>1</td>\n",
       "      <td>N</td>\n",
       "      <td>-73.990273</td>\n",
       "      <td>40.745438</td>\n",
       "      <td>1</td>\n",
       "      <td>8.0</td>\n",
       "      <td>0.0</td>\n",
       "      <td>0.5</td>\n",
       "      <td>2.20</td>\n",
       "      <td>0.0</td>\n",
       "      <td>0.3</td>\n",
       "      <td>11.00</td>\n",
       "    </tr>\n",
       "    <tr>\n",
       "      <th>3</th>\n",
       "      <td>2</td>\n",
       "      <td>2015-06-02 11:19:31</td>\n",
       "      <td>2015-06-02 11:39:02</td>\n",
       "      <td>1</td>\n",
       "      <td>2.13</td>\n",
       "      <td>-73.945892</td>\n",
       "      <td>40.773529</td>\n",
       "      <td>1</td>\n",
       "      <td>N</td>\n",
       "      <td>-73.971527</td>\n",
       "      <td>40.760330</td>\n",
       "      <td>1</td>\n",
       "      <td>13.5</td>\n",
       "      <td>0.0</td>\n",
       "      <td>0.5</td>\n",
       "      <td>2.86</td>\n",
       "      <td>0.0</td>\n",
       "      <td>0.3</td>\n",
       "      <td>17.16</td>\n",
       "    </tr>\n",
       "    <tr>\n",
       "      <th>4</th>\n",
       "      <td>1</td>\n",
       "      <td>2015-06-02 11:19:32</td>\n",
       "      <td>2015-06-02 11:32:49</td>\n",
       "      <td>1</td>\n",
       "      <td>1.40</td>\n",
       "      <td>-73.979088</td>\n",
       "      <td>40.776772</td>\n",
       "      <td>1</td>\n",
       "      <td>N</td>\n",
       "      <td>-73.982162</td>\n",
       "      <td>40.758999</td>\n",
       "      <td>2</td>\n",
       "      <td>9.5</td>\n",
       "      <td>0.0</td>\n",
       "      <td>0.5</td>\n",
       "      <td>0.00</td>\n",
       "      <td>0.0</td>\n",
       "      <td>0.3</td>\n",
       "      <td>10.30</td>\n",
       "    </tr>\n",
       "  </tbody>\n",
       "</table>\n",
       "</div>"
      ],
      "text/plain": [
       "   VendorID tpep_pickup_datetime tpep_dropoff_datetime  passenger_count  \\\n",
       "0         2  2015-06-02 11:19:29   2015-06-02 11:47:52                1   \n",
       "1         2  2015-06-02 11:19:30   2015-06-02 11:27:56                1   \n",
       "2         2  2015-06-02 11:19:31   2015-06-02 11:30:30                1   \n",
       "3         2  2015-06-02 11:19:31   2015-06-02 11:39:02                1   \n",
       "4         1  2015-06-02 11:19:32   2015-06-02 11:32:49                1   \n",
       "\n",
       "   trip_distance  pickup_longitude  pickup_latitude  RateCodeID  \\\n",
       "0           1.63        -73.954430        40.764141           1   \n",
       "1           0.46        -73.971443        40.758942           1   \n",
       "2           0.87        -73.978111        40.738434           1   \n",
       "3           2.13        -73.945892        40.773529           1   \n",
       "4           1.40        -73.979088        40.776772           1   \n",
       "\n",
       "  store_and_fwd_flag  dropoff_longitude  dropoff_latitude  payment_type  \\\n",
       "0                  N         -73.974754         40.754093             2   \n",
       "1                  N         -73.978539         40.761909             1   \n",
       "2                  N         -73.990273         40.745438             1   \n",
       "3                  N         -73.971527         40.760330             1   \n",
       "4                  N         -73.982162         40.758999             2   \n",
       "\n",
       "   fare_amount  extra  mta_tax  tip_amount  tolls_amount  \\\n",
       "0         17.0    0.0      0.5        0.00           0.0   \n",
       "1          6.5    0.0      0.5        1.00           0.0   \n",
       "2          8.0    0.0      0.5        2.20           0.0   \n",
       "3         13.5    0.0      0.5        2.86           0.0   \n",
       "4          9.5    0.0      0.5        0.00           0.0   \n",
       "\n",
       "   improvement_surcharge  total_amount  \n",
       "0                    0.3         17.80  \n",
       "1                    0.3          8.30  \n",
       "2                    0.3         11.00  \n",
       "3                    0.3         17.16  \n",
       "4                    0.3         10.30  "
      ]
     },
     "execution_count": 6,
     "metadata": {},
     "output_type": "execute_result"
    }
   ],
   "source": [
    "# a first glimpse: the first five trips of the file \n",
    "df.head() "
   ]
  },
  {
   "cell_type": "code",
   "execution_count": 7,
   "metadata": {
    "collapsed": false
   },
   "outputs": [
    {
     "name": "stdout",
     "output_type": "stream",
     "text": [
      "We have 12324935 trips in New York in June 2015\n"
     ]
    }
   ],
   "source": [
    "databegin = len(df)\n",
    "print(\"We have \" +str(databegin)+\" trips in New York in June 2015\")\n",
    "\n",
    "# a double-check\n",
    "# df.count(axis=0, level=None, numeric_only=False)  "
   ]
  },
  {
   "cell_type": "code",
   "execution_count": 8,
   "metadata": {
    "collapsed": false
   },
   "outputs": [
    {
     "data": {
      "text/plain": [
       "0   2015-06-02 11:19:29\n",
       "1   2015-06-02 11:19:30\n",
       "2   2015-06-02 11:19:31\n",
       "3   2015-06-02 11:19:31\n",
       "4   2015-06-02 11:19:32\n",
       "Name: tpep_pickup_datetime, dtype: datetime64[ns]"
      ]
     },
     "execution_count": 8,
     "metadata": {},
     "output_type": "execute_result"
    }
   ],
   "source": [
    "# check it out if times are converted to datetime objects\n",
    "df.tpep_pickup_datetime.head()\n",
    "# df['tpep_pickup_datetime'].head()"
   ]
  },
  {
   "cell_type": "code",
   "execution_count": 9,
   "metadata": {
    "collapsed": false
   },
   "outputs": [
    {
     "name": "stdout",
     "output_type": "stream",
     "text": [
      "We have 28 days 10:34:53 of data observation for trips in New York in June 2015\n"
     ]
    }
   ],
   "source": [
    "Timedelta = df.tpep_pickup_datetime.iloc[-1] - df.tpep_pickup_datetime.iloc[0]\n",
    "print(\"We have \" +str(Timedelta)+\" of data observation for trips in New York in June 2015\")"
   ]
  },
  {
   "cell_type": "markdown",
   "metadata": {},
   "source": [
    "Trip data looks like this. The file relative to the month of June has about ** 12 million rows **,  and each row contains: `vendor id`, `rate code`, `store and forward flag`, `pickup date/time dropoff date/time`, `passenger count`, `trip distance`, and `latitude/longitude` coordinates for the pickup and dropoff locations.  The possibilities are endless! I smell a tip analysis coming on :-) "
   ]
  },
  {
   "cell_type": "markdown",
   "metadata": {},
   "source": [
    "## Exploratory data analysis"
   ]
  },
  {
   "cell_type": "markdown",
   "metadata": {},
   "source": [
    "The data set is organized as follows:\n",
    "\n",
    "* `VendorID`:  e.g., *Verifone Transportation Systems* (VTS), or *Mobile Knowledge Systems Inc* (CMT), implemented as part of the Technology Passenger Enhancements Project.\n",
    "* `tpep_pickup_datetime`: start time of the trip, `mm-dd-yyyy hh24:mm:ss` EDT.\n",
    "* `tpep_dropoff_datetime`: end time of the trip, `mm-dd-yyyy hh24:mm:ss` EDT. \n",
    "* `RateCodeID`: taximeter rate, see NYCT&L description.\n",
    "* `store_and_fwd_flag`: This flag indicates whether the trip record was held in vehicle memory before sending to the vendor, aka “store and forward,” because the vehicle did not have a connection to the server. Y= store and forward trip, N= not a store and forward trip\n",
    "* `passenger_count`: number of passengers on the trip, default value is one.\n",
    "* `trip_distance`: trip distance measured by the taximeter in miles.\n",
    "* `pickup_longitude` and `pickup_latitude`: GPS coordinates at the start of the trip.\n",
    "* `dropoff_longitude` and `dropoff_latitude`: GPS coordinates at the end of the trip.\n",
    "* `payment_type`: A numeric code signifying how the passenger paid for the trip. 1= Credit card, 2= Cash, 3= No charge, 4= Dispute, 5= Unknown, 6= Voided trip\n",
    "* `fare_amount`: The time-and-distance fare calculated by the meter\t\n",
    "* `extra`: Miscellaneous extras and surcharges. Currently, this only includes the `$0.50` and `$1` rush hour and overnight charges.\n",
    "* `mta_tax`: `$0.50` MTA tax that is automatically triggered based on the metered rate in use.\t\n",
    "* `tip_amount`: Tip amount – This field is automatically populated for credit card tips. Cash tips are not included.\n",
    "* `tolls_amount`: Total amount of all tolls paid in trip. \n",
    "* `improvement_surcharge`: `$0.30` improvement surcharge assessed trips at the flag drop. The improvement surcharge began being levied in `2015`. \t\n",
    "* `total_amount`: The total amount charged to passengers. Does not include cash tips.\n",
    "\n",
    "\n",
    "A dictionary for the yellow taxi trip records can be found [here](http://www.nyc.gov/html/tlc/downloads/pdf/data_dictionary_trip_records_yellow.pdf). \n",
    "\n",
    "Let's use the `replace` method to modify a subset of values in an object. `replace` provides a simpler and more flexible way to do so."
   ]
  },
  {
   "cell_type": "code",
   "execution_count": 10,
   "metadata": {
    "collapsed": false
   },
   "outputs": [],
   "source": [
    "# the argument is passed as a dict: \n",
    "df.VendorID = df.VendorID.replace({1: 'CMT', 2: 'VFI'})\n",
    "df.RateCodeID = df.RateCodeID.replace({1: 'STD', 2: 'JFK', 3: 'NEW', 4: 'NOW', 5: 'NEG', 6: 'GRP'})\n",
    "df.payment_type = df.payment_type.replace({1: 'CRD', 2: 'CSH', 3: 'NOC', 4: 'DIS', 5: 'UNK', 6: 'VOI'})"
   ]
  },
  {
   "cell_type": "markdown",
   "metadata": {},
   "source": [
    "It is convenient to visualize some of these attributes, e.g., the `payment_type`, to get first insights in the distributions of these data values: "
   ]
  },
  {
   "cell_type": "code",
   "execution_count": 11,
   "metadata": {
    "collapsed": false
   },
   "outputs": [
    {
     "data": {
      "image/png": "[encoded data removed]",
      "text/plain": [
       "<matplotlib.figure.Figure at 0x116f5c9b0>"
      ]
     },
     "metadata": {
      "image/png": {
       "height": 392,
       "width": 536
      }
     },
     "output_type": "display_data"
    }
   ],
   "source": [
    "ax = df.groupby(df['payment_type']).size().plot(kind='bar')\n",
    "\n",
    "ax.set_xlabel('payment type', fontsize=18)\n",
    "ax.set_ylabel('Number of trips', fontsize=18)\n",
    "plt.title('Yellow taxi trips - June 2015', fontsize=15)\n",
    "ax.tick_params(labelsize=12)"
   ]
  },
  {
   "cell_type": "markdown",
   "metadata": {},
   "source": [
    "We can see that **credit card and cash** are the taxi's main payment types. The rows with the other strange values can be  deleted. By doing this (we are going to do the same with the other attributes too) we are adding a bit of bias to the predictions, but those values are so unusual that will hardly affect to the prediction's performance.  "
   ]
  },
  {
   "cell_type": "code",
   "execution_count": 12,
   "metadata": {
    "collapsed": true
   },
   "outputs": [],
   "source": [
    "# we are going to drop trips with payment not cash or credit\n",
    "# types = ['CRD','CSH']\n",
    "# df = df[df.payment_type.isin(types)]\n",
    "payment_type = ((df.payment_type == 'CRD') | (df.payment_type == 'CSH'))"
   ]
  },
  {
   "cell_type": "markdown",
   "metadata": {},
   "source": [
    "As the rest of the attributes are numeric, a way to help ourselves is by obtaining a few of statistical values from them. "
   ]
  },
  {
   "cell_type": "code",
   "execution_count": 13,
   "metadata": {
    "collapsed": false
   },
   "outputs": [
    {
     "data": {
      "text/html": [
       "<div>\n",
       "<table border=\"1\" class=\"dataframe\">\n",
       "  <thead>\n",
       "    <tr style=\"text-align: right;\">\n",
       "      <th></th>\n",
       "      <th>passenger_count</th>\n",
       "      <th>trip_distance</th>\n",
       "      <th>pickup_longitude</th>\n",
       "      <th>pickup_latitude</th>\n",
       "      <th>dropoff_longitude</th>\n",
       "      <th>dropoff_latitude</th>\n",
       "      <th>fare_amount</th>\n",
       "      <th>extra</th>\n",
       "      <th>mta_tax</th>\n",
       "      <th>tip_amount</th>\n",
       "      <th>tolls_amount</th>\n",
       "      <th>improvement_surcharge</th>\n",
       "      <th>total_amount</th>\n",
       "    </tr>\n",
       "  </thead>\n",
       "  <tbody>\n",
       "    <tr>\n",
       "      <th>count</th>\n",
       "      <td>1.232494e+07</td>\n",
       "      <td>1.232494e+07</td>\n",
       "      <td>1.232494e+07</td>\n",
       "      <td>1.232494e+07</td>\n",
       "      <td>1.232494e+07</td>\n",
       "      <td>1.232494e+07</td>\n",
       "      <td>1.232494e+07</td>\n",
       "      <td>1.232494e+07</td>\n",
       "      <td>1.232494e+07</td>\n",
       "      <td>1.232494e+07</td>\n",
       "      <td>1.232494e+07</td>\n",
       "      <td>1.232494e+07</td>\n",
       "      <td>1.232494e+07</td>\n",
       "    </tr>\n",
       "    <tr>\n",
       "      <th>mean</th>\n",
       "      <td>1.681898e+00</td>\n",
       "      <td>1.182908e+01</td>\n",
       "      <td>-7.291385e+01</td>\n",
       "      <td>4.016687e+01</td>\n",
       "      <td>-7.294474e+01</td>\n",
       "      <td>4.018478e+01</td>\n",
       "      <td>1.320408e+01</td>\n",
       "      <td>3.234049e-01</td>\n",
       "      <td>4.976184e-01</td>\n",
       "      <td>1.736538e+00</td>\n",
       "      <td>3.161518e-01</td>\n",
       "      <td>2.997213e-01</td>\n",
       "      <td>1.637827e+01</td>\n",
       "    </tr>\n",
       "    <tr>\n",
       "      <th>std</th>\n",
       "      <td>1.335180e+00</td>\n",
       "      <td>7.678550e+03</td>\n",
       "      <td>8.796762e+00</td>\n",
       "      <td>4.843162e+00</td>\n",
       "      <td>8.669562e+00</td>\n",
       "      <td>4.777574e+00</td>\n",
       "      <td>1.060766e+02</td>\n",
       "      <td>4.804153e-01</td>\n",
       "      <td>4.214822e-02</td>\n",
       "      <td>2.637613e+00</td>\n",
       "      <td>1.542573e+00</td>\n",
       "      <td>1.216386e-02</td>\n",
       "      <td>1.063828e+02</td>\n",
       "    </tr>\n",
       "    <tr>\n",
       "      <th>min</th>\n",
       "      <td>0.000000e+00</td>\n",
       "      <td>0.000000e+00</td>\n",
       "      <td>-7.592333e+02</td>\n",
       "      <td>-6.713696e+01</td>\n",
       "      <td>-7.541667e+02</td>\n",
       "      <td>-1.617787e+01</td>\n",
       "      <td>-3.000000e+02</td>\n",
       "      <td>-3.050000e+01</td>\n",
       "      <td>-5.000000e-01</td>\n",
       "      <td>-8.000000e+01</td>\n",
       "      <td>-1.400000e+01</td>\n",
       "      <td>-3.000000e-01</td>\n",
       "      <td>-3.000000e+02</td>\n",
       "    </tr>\n",
       "    <tr>\n",
       "      <th>25%</th>\n",
       "      <td>1.000000e+00</td>\n",
       "      <td>1.010000e+00</td>\n",
       "      <td>-7.399190e+01</td>\n",
       "      <td>4.073614e+01</td>\n",
       "      <td>-7.399130e+01</td>\n",
       "      <td>4.073463e+01</td>\n",
       "      <td>6.500000e+00</td>\n",
       "      <td>0.000000e+00</td>\n",
       "      <td>5.000000e-01</td>\n",
       "      <td>0.000000e+00</td>\n",
       "      <td>0.000000e+00</td>\n",
       "      <td>3.000000e-01</td>\n",
       "      <td>8.760000e+00</td>\n",
       "    </tr>\n",
       "    <tr>\n",
       "      <th>50%</th>\n",
       "      <td>1.000000e+00</td>\n",
       "      <td>1.750000e+00</td>\n",
       "      <td>-7.398154e+01</td>\n",
       "      <td>4.075323e+01</td>\n",
       "      <td>-7.397962e+01</td>\n",
       "      <td>4.075380e+01</td>\n",
       "      <td>9.500000e+00</td>\n",
       "      <td>0.000000e+00</td>\n",
       "      <td>5.000000e-01</td>\n",
       "      <td>1.160000e+00</td>\n",
       "      <td>0.000000e+00</td>\n",
       "      <td>3.000000e-01</td>\n",
       "      <td>1.230000e+01</td>\n",
       "    </tr>\n",
       "    <tr>\n",
       "      <th>75%</th>\n",
       "      <td>2.000000e+00</td>\n",
       "      <td>3.230000e+00</td>\n",
       "      <td>-7.396646e+01</td>\n",
       "      <td>4.076793e+01</td>\n",
       "      <td>-7.396248e+01</td>\n",
       "      <td>4.076879e+01</td>\n",
       "      <td>1.500000e+01</td>\n",
       "      <td>5.000000e-01</td>\n",
       "      <td>5.000000e-01</td>\n",
       "      <td>2.350000e+00</td>\n",
       "      <td>0.000000e+00</td>\n",
       "      <td>3.000000e-01</td>\n",
       "      <td>1.830000e+01</td>\n",
       "    </tr>\n",
       "    <tr>\n",
       "      <th>max</th>\n",
       "      <td>9.000000e+00</td>\n",
       "      <td>1.008332e+07</td>\n",
       "      <td>1.490285e+02</td>\n",
       "      <td>6.970258e+01</td>\n",
       "      <td>1.255356e+02</td>\n",
       "      <td>4.834500e+02</td>\n",
       "      <td>3.354137e+05</td>\n",
       "      <td>6.524200e+02</td>\n",
       "      <td>6.035000e+01</td>\n",
       "      <td>9.809100e+02</td>\n",
       "      <td>9.009700e+02</td>\n",
       "      <td>7.000000e-01</td>\n",
       "      <td>3.354145e+05</td>\n",
       "    </tr>\n",
       "  </tbody>\n",
       "</table>\n",
       "</div>"
      ],
      "text/plain": [
       "       passenger_count  trip_distance  pickup_longitude  pickup_latitude  \\\n",
       "count     1.232494e+07   1.232494e+07      1.232494e+07     1.232494e+07   \n",
       "mean      1.681898e+00   1.182908e+01     -7.291385e+01     4.016687e+01   \n",
       "std       1.335180e+00   7.678550e+03      8.796762e+00     4.843162e+00   \n",
       "min       0.000000e+00   0.000000e+00     -7.592333e+02    -6.713696e+01   \n",
       "25%       1.000000e+00   1.010000e+00     -7.399190e+01     4.073614e+01   \n",
       "50%       1.000000e+00   1.750000e+00     -7.398154e+01     4.075323e+01   \n",
       "75%       2.000000e+00   3.230000e+00     -7.396646e+01     4.076793e+01   \n",
       "max       9.000000e+00   1.008332e+07      1.490285e+02     6.970258e+01   \n",
       "\n",
       "       dropoff_longitude  dropoff_latitude   fare_amount         extra  \\\n",
       "count       1.232494e+07      1.232494e+07  1.232494e+07  1.232494e+07   \n",
       "mean       -7.294474e+01      4.018478e+01  1.320408e+01  3.234049e-01   \n",
       "std         8.669562e+00      4.777574e+00  1.060766e+02  4.804153e-01   \n",
       "min        -7.541667e+02     -1.617787e+01 -3.000000e+02 -3.050000e+01   \n",
       "25%        -7.399130e+01      4.073463e+01  6.500000e+00  0.000000e+00   \n",
       "50%        -7.397962e+01      4.075380e+01  9.500000e+00  0.000000e+00   \n",
       "75%        -7.396248e+01      4.076879e+01  1.500000e+01  5.000000e-01   \n",
       "max         1.255356e+02      4.834500e+02  3.354137e+05  6.524200e+02   \n",
       "\n",
       "            mta_tax    tip_amount  tolls_amount  improvement_surcharge  \\\n",
       "count  1.232494e+07  1.232494e+07  1.232494e+07           1.232494e+07   \n",
       "mean   4.976184e-01  1.736538e+00  3.161518e-01           2.997213e-01   \n",
       "std    4.214822e-02  2.637613e+00  1.542573e+00           1.216386e-02   \n",
       "min   -5.000000e-01 -8.000000e+01 -1.400000e+01          -3.000000e-01   \n",
       "25%    5.000000e-01  0.000000e+00  0.000000e+00           3.000000e-01   \n",
       "50%    5.000000e-01  1.160000e+00  0.000000e+00           3.000000e-01   \n",
       "75%    5.000000e-01  2.350000e+00  0.000000e+00           3.000000e-01   \n",
       "max    6.035000e+01  9.809100e+02  9.009700e+02           7.000000e-01   \n",
       "\n",
       "       total_amount  \n",
       "count  1.232494e+07  \n",
       "mean   1.637827e+01  \n",
       "std    1.063828e+02  \n",
       "min   -3.000000e+02  \n",
       "25%    8.760000e+00  \n",
       "50%    1.230000e+01  \n",
       "75%    1.830000e+01  \n",
       "max    3.354145e+05  "
      ]
     },
     "execution_count": 13,
     "metadata": {},
     "output_type": "execute_result"
    }
   ],
   "source": [
    "df.describe()"
   ]
  },
  {
   "cell_type": "markdown",
   "metadata": {},
   "source": [
    "Concerning the `fare_amount`, this is an attribute that can be difficult to properly visualize. So, we can have a look to the above table. What we immediately observe is that there are negative values!  We may thinking of a range of ordinary values for this attribute, something like between `$3.00` and `$200.00`"
   ]
  },
  {
   "cell_type": "code",
   "execution_count": 14,
   "metadata": {
    "collapsed": true
   },
   "outputs": [],
   "source": [
    "fare_amount = ((df.fare_amount  >=3.0 ) & (df.fare_amount <=200.0))"
   ]
  },
  {
   "cell_type": "markdown",
   "metadata": {},
   "source": [
    "From the dictionary above, concerning the attribute `improvement_surcharge` it is straightforward to save only trips with `$0.3` value. The same idea applies to the `mta_tax`: "
   ]
  },
  {
   "cell_type": "code",
   "execution_count": 15,
   "metadata": {
    "collapsed": true
   },
   "outputs": [],
   "source": [
    "surcharge = (df.improvement_surcharge  == 0.3)\n",
    "mta_tax = (df.mta_tax == 0.5)"
   ]
  },
  {
   "cell_type": "markdown",
   "metadata": {},
   "source": [
    "An useful representation from `tolls_amount` is very difficult because of the huge range of values. \n",
    "A possible reason of that is that drivers manually introduced them. \n",
    "Also, these values can change as the course of the time, so they probably aren't going to be same \n",
    "in all the month. A solution for that might be to obtain the values that are repeated, for example, \n",
    "more that a thousand times:"
   ]
  },
  {
   "cell_type": "code",
   "execution_count": 16,
   "metadata": {
    "collapsed": false
   },
   "outputs": [
    {
     "name": "stdout",
     "output_type": "stream",
     "text": [
      "tolls_amount\n",
      "0.00     11667901\n",
      "2.54         5046\n",
      "5.33         3170\n",
      "5.54       609922\n",
      "8.00         1059\n",
      "9.75         7211\n",
      "11.08        3433\n",
      "11.75        9259\n",
      "17.29        1099\n",
      "dtype: int64\n"
     ]
    }
   ],
   "source": [
    "tolls = df.groupby(['tolls_amount']).size()\n",
    "\n",
    "print(tolls[tolls >= 1000.00])\n",
    "tolls = None"
   ]
  },
  {
   "cell_type": "markdown",
   "metadata": {},
   "source": [
    "Therefore, a good range for this attribute could be something like `$0.00` and `$30.00`"
   ]
  },
  {
   "cell_type": "code",
   "execution_count": 17,
   "metadata": {
    "collapsed": false
   },
   "outputs": [],
   "source": [
    "# Uncomment, and check it out by yourself!\n",
    "# ax = df.groupby(df['tolls_amount']).size().plot(kind='bar')\n",
    "\n",
    "# ax.set_xlabel('tolls amount', fontsize=18)\n",
    "# ax.set_ylabel('Number of trips', fontsize=18)\n",
    "# plt.title('Yellow taxi trips - June 2015')\n",
    "# ax.tick_params(labelsize=12)"
   ]
  },
  {
   "cell_type": "code",
   "execution_count": 18,
   "metadata": {
    "collapsed": true
   },
   "outputs": [],
   "source": [
    "tolls_amount = ((df.tip_amount >=0.0) & (df.tip_amount <=30.0))"
   ]
  },
  {
   "cell_type": "markdown",
   "metadata": {},
   "source": [
    "Regarding the `tip_amount`, as suspected, we notice that most cash fares have a tip of `$0`, which seems odd."
   ]
  },
  {
   "cell_type": "code",
   "execution_count": 19,
   "metadata": {
    "collapsed": false,
    "scrolled": false
   },
   "outputs": [
    {
     "data": {
      "image/png": "[encoded data removed]",
      "text/plain": [
       "<matplotlib.figure.Figure at 0x1188310f0>"
      ]
     },
     "metadata": {
      "image/png": {
       "height": 392,
       "width": 536
      }
     },
     "output_type": "display_data"
    }
   ],
   "source": [
    "ax = df[df['tip_amount'] > 0].groupby(['payment_type']).size().plot(kind = 'bar')\n",
    "\n",
    "ax.set_xlabel('payment_type', fontsize=18)\n",
    "ax.set_ylabel('Number of trips', fontsize=18)\n",
    "plt.title('Yellow taxi trips - June 2015', fontsize=15)\n",
    "ax.tick_params(labelsize=12)"
   ]
  },
  {
   "cell_type": "markdown",
   "metadata": {},
   "source": [
    "A possible explanation is that it's very possible drivers are under-reporting cash tips, in order to pocket all of the cash themselves, which obviously skews our data quite a bit. So, we remove this annoying noise, deleting the `CSH payment type`. Moreover, it seems reasonable to assume an upper limit of a value of `$100.00`. Also, we drop unnecessary columns: "
   ]
  },
  {
   "cell_type": "code",
   "execution_count": 20,
   "metadata": {
    "collapsed": true
   },
   "outputs": [],
   "source": [
    "tip_amount   = ((df.tip_amount >=0.0) & (df.tip_amount <=100.0))\n",
    "\n",
    "df = df[payment_type & fare_amount & surcharge & mta_tax & tip_amount & tolls_amount]\n",
    "payment_type = None \n",
    "surcharge = None \n",
    "fare_amount = None \n",
    "mta_tax = None \n",
    "tip_amount = None \n",
    "tolls_amount = None \n",
    "\n",
    "# drop unnecessary columns\n",
    "df.drop(['VendorID','RateCodeID','store_and_fwd_flag'], axis=1, inplace=True)"
   ]
  },
  {
   "cell_type": "raw",
   "metadata": {
    "collapsed": false
   },
   "source": [
    "data_aux = None \n",
    "\n",
    "payment_type = ((df.payment_type == 'CRD'))\n",
    "fare_amount  = ((df.fare_amount  >=3.0 ) & (df.fare_amount <=200.0))\n",
    "surcharge    = (df.improvement_surcharge  == 0.3)\n",
    "mta_tax      = (df.mta_tax == .5)\n",
    "tip_amount   = ((df.tip_amount >=0.0) & (df.tip_amount <=100.0))\n",
    "tolls_amount = ((df.tip_amount >=0.0) & (df.tip_amount <=30.0))\n",
    "\n",
    "\n",
    "df = df[payment_type & fare_amount & surcharge & mta_tax & tip_amount & tolls_amount]\n",
    "payment_type = None \n",
    "surcharge = None \n",
    "fare_amount = None \n",
    "mta_tax = None \n",
    "tip_amount = None \n",
    "tolls_amount = None \n",
    "\n",
    "# drop unnecessary columns\n",
    "df.drop(['payment_type','VendorID','RateCodeID','store_and_fwd_flag'], axis=1, inplace=True)"
   ]
  },
  {
   "cell_type": "markdown",
   "metadata": {},
   "source": [
    "## Cleaning the Data Set\n",
    "**We need to remove the noise: some bad data with 0 km trips, impossible gps coordinates and so on...**"
   ]
  },
  {
   "cell_type": "markdown",
   "metadata": {},
   "source": [
    "In an effort to determine trends in our data, in the next we add and reformat a number of columns to our dataframe for features that we thought might be interesting to predict or might be valuable as explanatory factors in predicting other features, such as:\n",
    "\n",
    "* trip time in seconds\n",
    "* trip time in minutes\n",
    "* trip time in hours\n",
    "* time of day (minutes since midnight)\n",
    "* hour of the trip\n",
    "* time of day (morning, afternoon, etc.)\n",
    "* speed of trip (mph)\n",
    "* day of the week\n",
    "* month of the year\n",
    "* cost of trip (total cost minus tip)\n",
    "* percent tip (tip/cost)"
   ]
  },
  {
   "cell_type": "code",
   "execution_count": 21,
   "metadata": {
    "collapsed": true
   },
   "outputs": [],
   "source": [
    "trip_time = df.tpep_dropoff_datetime - df.tpep_pickup_datetime \n",
    "# ATTENTION, this in timedelta64[ns].\n",
    "# we need to convert it in either in seconds or minutes or in hours, as you prefer"
   ]
  },
  {
   "cell_type": "code",
   "execution_count": 22,
   "metadata": {
    "collapsed": false
   },
   "outputs": [],
   "source": [
    "# generate a column for trip time in secs\n",
    "trip_time_in_secs = (trip_time / np.timedelta64(1,'s'))\n",
    "# generate a column for trip time in minutes\n",
    "trip_time_in_mins = (trip_time / np.timedelta64(1,'m'))\n",
    "# generate a column for trip time in hours\n",
    "trip_time_in_hours = (trip_time / np.timedelta64(1,'h'))"
   ]
  },
  {
   "cell_type": "code",
   "execution_count": 23,
   "metadata": {
    "collapsed": false
   },
   "outputs": [],
   "source": [
    "df['trip_time_in_secs'] = trip_time_in_secs\n",
    "df['trip_time_in_mins'] = trip_time_in_mins\n",
    "df['trip_time_in_hours'] = trip_time_in_hours"
   ]
  },
  {
   "cell_type": "code",
   "execution_count": 24,
   "metadata": {
    "collapsed": false
   },
   "outputs": [],
   "source": [
    "# A brief statistical view of what is going on...\n",
    "# df.describe()"
   ]
  },
  {
   "cell_type": "code",
   "execution_count": 25,
   "metadata": {
    "collapsed": false
   },
   "outputs": [],
   "source": [
    "# generate column for minutes since midnight\n",
    "df['time'] = [a.hour*60 + a.minute for a in df['tpep_pickup_datetime']]\n",
    "\n",
    "# generate a column for hour of the day\n",
    "df['hour'] = [a.hour for a in df['tpep_pickup_datetime']]\n",
    "\n",
    "# create a column for time of day\n",
    "df['time_of_day'] = ['morning' if (4 <= time.hour < 12) else 'afternoon' \\\n",
    "                     if (12 <= time.hour < 17) else 'evening' \\\n",
    "                     if (17 <= time.hour < 21) else 'night' \\\n",
    "                     for time in df['tpep_pickup_datetime']]\n",
    "\n",
    "# generate a column for average speed of the trip\n",
    "# speed in mph\n",
    "df['speed'] = df['trip_distance']/df['trip_time_in_hours']\n",
    "\n",
    "# generate a column for the day of the week\n",
    "df['weekday'] = [a.weekday() for a in df['tpep_pickup_datetime']]\n",
    "\n",
    "# generate a column to note whether it was a weekday or a weekend\n",
    "df['weekend'] = [1 if (a == 5 or a == 6) else 0 for a in df['weekday']]"
   ]
  },
  {
   "cell_type": "markdown",
   "metadata": {},
   "source": [
    "For obtaining a better value to predict, we can obtain a normalized version of the tip, the *tip percentage*."
   ]
  },
  {
   "cell_type": "code",
   "execution_count": 26,
   "metadata": {
    "collapsed": false
   },
   "outputs": [
    {
     "data": {
      "text/html": [
       "<div>\n",
       "<table border=\"1\" class=\"dataframe\">\n",
       "  <thead>\n",
       "    <tr style=\"text-align: right;\">\n",
       "      <th></th>\n",
       "      <th>passenger_count</th>\n",
       "      <th>trip_distance</th>\n",
       "      <th>pickup_longitude</th>\n",
       "      <th>pickup_latitude</th>\n",
       "      <th>dropoff_longitude</th>\n",
       "      <th>dropoff_latitude</th>\n",
       "      <th>fare_amount</th>\n",
       "      <th>extra</th>\n",
       "      <th>mta_tax</th>\n",
       "      <th>tip_amount</th>\n",
       "      <th>...</th>\n",
       "      <th>total_amount</th>\n",
       "      <th>trip_time_in_secs</th>\n",
       "      <th>trip_time_in_mins</th>\n",
       "      <th>trip_time_in_hours</th>\n",
       "      <th>time</th>\n",
       "      <th>hour</th>\n",
       "      <th>speed</th>\n",
       "      <th>weekday</th>\n",
       "      <th>weekend</th>\n",
       "      <th>percent_tip</th>\n",
       "    </tr>\n",
       "  </thead>\n",
       "  <tbody>\n",
       "    <tr>\n",
       "      <th>count</th>\n",
       "      <td>1.217787e+07</td>\n",
       "      <td>1.217787e+07</td>\n",
       "      <td>1.217787e+07</td>\n",
       "      <td>1.217787e+07</td>\n",
       "      <td>1.217787e+07</td>\n",
       "      <td>1.217787e+07</td>\n",
       "      <td>1.217787e+07</td>\n",
       "      <td>1.217787e+07</td>\n",
       "      <td>12177874.0</td>\n",
       "      <td>1.217787e+07</td>\n",
       "      <td>...</td>\n",
       "      <td>1.217787e+07</td>\n",
       "      <td>1.217787e+07</td>\n",
       "      <td>1.217787e+07</td>\n",
       "      <td>1.217787e+07</td>\n",
       "      <td>1.217787e+07</td>\n",
       "      <td>1.217787e+07</td>\n",
       "      <td>1.216682e+07</td>\n",
       "      <td>1.217787e+07</td>\n",
       "      <td>1.217787e+07</td>\n",
       "      <td>1.217787e+07</td>\n",
       "    </tr>\n",
       "    <tr>\n",
       "      <th>mean</th>\n",
       "      <td>1.684918e+00</td>\n",
       "      <td>1.190323e+01</td>\n",
       "      <td>-7.296978e+01</td>\n",
       "      <td>4.019767e+01</td>\n",
       "      <td>-7.301819e+01</td>\n",
       "      <td>4.022546e+01</td>\n",
       "      <td>1.299820e+01</td>\n",
       "      <td>3.243466e-01</td>\n",
       "      <td>0.5</td>\n",
       "      <td>1.711114e+00</td>\n",
       "      <td>...</td>\n",
       "      <td>1.612349e+01</td>\n",
       "      <td>9.282812e+02</td>\n",
       "      <td>1.547135e+01</td>\n",
       "      <td>2.578559e-01</td>\n",
       "      <td>8.406779e+02</td>\n",
       "      <td>1.351906e+01</td>\n",
       "      <td>inf</td>\n",
       "      <td>2.862225e+00</td>\n",
       "      <td>2.623815e-01</td>\n",
       "      <td>1.216904e-01</td>\n",
       "    </tr>\n",
       "    <tr>\n",
       "      <th>std</th>\n",
       "      <td>1.338153e+00</td>\n",
       "      <td>7.724734e+03</td>\n",
       "      <td>8.565742e+00</td>\n",
       "      <td>4.715785e+00</td>\n",
       "      <td>8.358233e+00</td>\n",
       "      <td>4.606182e+00</td>\n",
       "      <td>1.021219e+01</td>\n",
       "      <td>3.648137e-01</td>\n",
       "      <td>0.0</td>\n",
       "      <td>2.294089e+00</td>\n",
       "      <td>...</td>\n",
       "      <td>1.261241e+01</td>\n",
       "      <td>2.348369e+03</td>\n",
       "      <td>3.913948e+01</td>\n",
       "      <td>6.523247e-01</td>\n",
       "      <td>3.918541e+02</td>\n",
       "      <td>6.524266e+00</td>\n",
       "      <td>NaN</td>\n",
       "      <td>1.989614e+00</td>\n",
       "      <td>4.399289e-01</td>\n",
       "      <td>1.136837e-01</td>\n",
       "    </tr>\n",
       "    <tr>\n",
       "      <th>min</th>\n",
       "      <td>0.000000e+00</td>\n",
       "      <td>0.000000e+00</td>\n",
       "      <td>-7.592333e+02</td>\n",
       "      <td>-6.713696e+01</td>\n",
       "      <td>-7.541667e+02</td>\n",
       "      <td>-1.617787e+01</td>\n",
       "      <td>3.000000e+00</td>\n",
       "      <td>-3.050000e+01</td>\n",
       "      <td>0.5</td>\n",
       "      <td>0.000000e+00</td>\n",
       "      <td>...</td>\n",
       "      <td>-1.995000e+01</td>\n",
       "      <td>-2.153600e+05</td>\n",
       "      <td>-3.589333e+03</td>\n",
       "      <td>-5.982222e+01</td>\n",
       "      <td>0.000000e+00</td>\n",
       "      <td>0.000000e+00</td>\n",
       "      <td>-2.910000e+03</td>\n",
       "      <td>0.000000e+00</td>\n",
       "      <td>0.000000e+00</td>\n",
       "      <td>0.000000e+00</td>\n",
       "    </tr>\n",
       "    <tr>\n",
       "      <th>25%</th>\n",
       "      <td>1.000000e+00</td>\n",
       "      <td>1.030000e+00</td>\n",
       "      <td>-7.399190e+01</td>\n",
       "      <td>4.073632e+01</td>\n",
       "      <td>-7.399126e+01</td>\n",
       "      <td>4.073493e+01</td>\n",
       "      <td>6.500000e+00</td>\n",
       "      <td>0.000000e+00</td>\n",
       "      <td>0.5</td>\n",
       "      <td>0.000000e+00</td>\n",
       "      <td>...</td>\n",
       "      <td>8.800000e+00</td>\n",
       "      <td>4.110000e+02</td>\n",
       "      <td>6.850000e+00</td>\n",
       "      <td>1.141667e-01</td>\n",
       "      <td>5.620000e+02</td>\n",
       "      <td>9.000000e+00</td>\n",
       "      <td>7.584366e+00</td>\n",
       "      <td>1.000000e+00</td>\n",
       "      <td>0.000000e+00</td>\n",
       "      <td>0.000000e+00</td>\n",
       "    </tr>\n",
       "    <tr>\n",
       "      <th>50%</th>\n",
       "      <td>1.000000e+00</td>\n",
       "      <td>1.750000e+00</td>\n",
       "      <td>-7.398155e+01</td>\n",
       "      <td>4.075331e+01</td>\n",
       "      <td>-7.397961e+01</td>\n",
       "      <td>4.075393e+01</td>\n",
       "      <td>9.500000e+00</td>\n",
       "      <td>0.000000e+00</td>\n",
       "      <td>0.5</td>\n",
       "      <td>1.200000e+00</td>\n",
       "      <td>...</td>\n",
       "      <td>1.230000e+01</td>\n",
       "      <td>6.850000e+02</td>\n",
       "      <td>1.141667e+01</td>\n",
       "      <td>1.902778e-01</td>\n",
       "      <td>8.760000e+02</td>\n",
       "      <td>1.400000e+01</td>\n",
       "      <td>1.046005e+01</td>\n",
       "      <td>3.000000e+00</td>\n",
       "      <td>0.000000e+00</td>\n",
       "      <td>1.438849e-01</td>\n",
       "    </tr>\n",
       "    <tr>\n",
       "      <th>75%</th>\n",
       "      <td>2.000000e+00</td>\n",
       "      <td>3.210000e+00</td>\n",
       "      <td>-7.396658e+01</td>\n",
       "      <td>4.076798e+01</td>\n",
       "      <td>-7.396260e+01</td>\n",
       "      <td>4.076885e+01</td>\n",
       "      <td>1.500000e+01</td>\n",
       "      <td>5.000000e-01</td>\n",
       "      <td>0.5</td>\n",
       "      <td>2.360000e+00</td>\n",
       "      <td>...</td>\n",
       "      <td>1.830000e+01</td>\n",
       "      <td>1.111000e+03</td>\n",
       "      <td>1.851667e+01</td>\n",
       "      <td>3.086111e-01</td>\n",
       "      <td>1.175000e+03</td>\n",
       "      <td>1.900000e+01</td>\n",
       "      <td>1.423636e+01</td>\n",
       "      <td>5.000000e+00</td>\n",
       "      <td>1.000000e+00</td>\n",
       "      <td>2.078125e-01</td>\n",
       "    </tr>\n",
       "    <tr>\n",
       "      <th>max</th>\n",
       "      <td>9.000000e+00</td>\n",
       "      <td>1.008332e+07</td>\n",
       "      <td>1.490285e+02</td>\n",
       "      <td>6.970258e+01</td>\n",
       "      <td>1.255356e+02</td>\n",
       "      <td>4.834500e+02</td>\n",
       "      <td>2.000000e+02</td>\n",
       "      <td>4.005000e+01</td>\n",
       "      <td>0.5</td>\n",
       "      <td>3.000000e+01</td>\n",
       "      <td>...</td>\n",
       "      <td>6.364330e+03</td>\n",
       "      <td>1.188823e+06</td>\n",
       "      <td>1.981372e+04</td>\n",
       "      <td>3.302286e+02</td>\n",
       "      <td>1.439000e+03</td>\n",
       "      <td>2.300000e+01</td>\n",
       "      <td>inf</td>\n",
       "      <td>6.000000e+00</td>\n",
       "      <td>1.000000e+00</td>\n",
       "      <td>7.894737e+00</td>\n",
       "    </tr>\n",
       "  </tbody>\n",
       "</table>\n",
       "<p>8 rows × 22 columns</p>\n",
       "</div>"
      ],
      "text/plain": [
       "       passenger_count  trip_distance  pickup_longitude  pickup_latitude  \\\n",
       "count     1.217787e+07   1.217787e+07      1.217787e+07     1.217787e+07   \n",
       "mean      1.684918e+00   1.190323e+01     -7.296978e+01     4.019767e+01   \n",
       "std       1.338153e+00   7.724734e+03      8.565742e+00     4.715785e+00   \n",
       "min       0.000000e+00   0.000000e+00     -7.592333e+02    -6.713696e+01   \n",
       "25%       1.000000e+00   1.030000e+00     -7.399190e+01     4.073632e+01   \n",
       "50%       1.000000e+00   1.750000e+00     -7.398155e+01     4.075331e+01   \n",
       "75%       2.000000e+00   3.210000e+00     -7.396658e+01     4.076798e+01   \n",
       "max       9.000000e+00   1.008332e+07      1.490285e+02     6.970258e+01   \n",
       "\n",
       "       dropoff_longitude  dropoff_latitude   fare_amount         extra  \\\n",
       "count       1.217787e+07      1.217787e+07  1.217787e+07  1.217787e+07   \n",
       "mean       -7.301819e+01      4.022546e+01  1.299820e+01  3.243466e-01   \n",
       "std         8.358233e+00      4.606182e+00  1.021219e+01  3.648137e-01   \n",
       "min        -7.541667e+02     -1.617787e+01  3.000000e+00 -3.050000e+01   \n",
       "25%        -7.399126e+01      4.073493e+01  6.500000e+00  0.000000e+00   \n",
       "50%        -7.397961e+01      4.075393e+01  9.500000e+00  0.000000e+00   \n",
       "75%        -7.396260e+01      4.076885e+01  1.500000e+01  5.000000e-01   \n",
       "max         1.255356e+02      4.834500e+02  2.000000e+02  4.005000e+01   \n",
       "\n",
       "          mta_tax    tip_amount      ...       total_amount  \\\n",
       "count  12177874.0  1.217787e+07      ...       1.217787e+07   \n",
       "mean          0.5  1.711114e+00      ...       1.612349e+01   \n",
       "std           0.0  2.294089e+00      ...       1.261241e+01   \n",
       "min           0.5  0.000000e+00      ...      -1.995000e+01   \n",
       "25%           0.5  0.000000e+00      ...       8.800000e+00   \n",
       "50%           0.5  1.200000e+00      ...       1.230000e+01   \n",
       "75%           0.5  2.360000e+00      ...       1.830000e+01   \n",
       "max           0.5  3.000000e+01      ...       6.364330e+03   \n",
       "\n",
       "       trip_time_in_secs  trip_time_in_mins  trip_time_in_hours          time  \\\n",
       "count       1.217787e+07       1.217787e+07        1.217787e+07  1.217787e+07   \n",
       "mean        9.282812e+02       1.547135e+01        2.578559e-01  8.406779e+02   \n",
       "std         2.348369e+03       3.913948e+01        6.523247e-01  3.918541e+02   \n",
       "min        -2.153600e+05      -3.589333e+03       -5.982222e+01  0.000000e+00   \n",
       "25%         4.110000e+02       6.850000e+00        1.141667e-01  5.620000e+02   \n",
       "50%         6.850000e+02       1.141667e+01        1.902778e-01  8.760000e+02   \n",
       "75%         1.111000e+03       1.851667e+01        3.086111e-01  1.175000e+03   \n",
       "max         1.188823e+06       1.981372e+04        3.302286e+02  1.439000e+03   \n",
       "\n",
       "               hour         speed       weekday       weekend   percent_tip  \n",
       "count  1.217787e+07  1.216682e+07  1.217787e+07  1.217787e+07  1.217787e+07  \n",
       "mean   1.351906e+01           inf  2.862225e+00  2.623815e-01  1.216904e-01  \n",
       "std    6.524266e+00           NaN  1.989614e+00  4.399289e-01  1.136837e-01  \n",
       "min    0.000000e+00 -2.910000e+03  0.000000e+00  0.000000e+00  0.000000e+00  \n",
       "25%    9.000000e+00  7.584366e+00  1.000000e+00  0.000000e+00  0.000000e+00  \n",
       "50%    1.400000e+01  1.046005e+01  3.000000e+00  0.000000e+00  1.438849e-01  \n",
       "75%    1.900000e+01  1.423636e+01  5.000000e+00  1.000000e+00  2.078125e-01  \n",
       "max    2.300000e+01           inf  6.000000e+00  1.000000e+00  7.894737e+00  \n",
       "\n",
       "[8 rows x 22 columns]"
      ]
     },
     "execution_count": 26,
     "metadata": {},
     "output_type": "execute_result"
    }
   ],
   "source": [
    "# Let's create a new column for the percentage tip\n",
    "subtotal = df['fare_amount'] + df['improvement_surcharge'] + df['mta_tax']\n",
    "tip = df['tip_amount'] / subtotal\n",
    "df['percent_tip'] = tip\n",
    "# quick look to the statistical values of the new attributes \n",
    "df.describe()"
   ]
  },
  {
   "cell_type": "markdown",
   "metadata": {},
   "source": [
    "A tip with `~800,00%` of the fare! Let's eliminate trips with tips greater that `100%`.  \n",
    "Perhaps, it is more reasonable to adjust the percentage to a more ordinary range, \n",
    "something like `0%` and `50%`."
   ]
  },
  {
   "cell_type": "code",
   "execution_count": 27,
   "metadata": {
    "collapsed": true
   },
   "outputs": [],
   "source": [
    "df = df[df['percent_tip'] <= 50]"
   ]
  },
  {
   "cell_type": "markdown",
   "metadata": {},
   "source": [
    "Now that we have defined the columns above, we can do some simple counts to ensure our data set is truly a random sample. We can easily confirm that the distribution is relatively even."
   ]
  },
  {
   "cell_type": "code",
   "execution_count": 28,
   "metadata": {
    "collapsed": false
   },
   "outputs": [
    {
     "name": "stdout",
     "output_type": "stream",
     "text": [
      "weekday\n",
      "0    1878919\n",
      "1    1988245\n",
      "2    1668131\n",
      "3    1712401\n",
      "4    1734929\n",
      "5    1717102\n",
      "6    1478147\n",
      "dtype: int64\n",
      "hour\n",
      "0     484383\n",
      "1     348094\n",
      "2     249919\n",
      "3     176491\n",
      "4     132908\n",
      "5     129905\n",
      "6     283058\n",
      "7     462703\n",
      "8     565501\n",
      "9     569051\n",
      "10    556866\n",
      "11    575996\n",
      "12    595904\n",
      "13    589618\n",
      "14    606758\n",
      "15    565060\n",
      "16    490649\n",
      "17    591176\n",
      "18    714831\n",
      "19    747566\n",
      "20    686963\n",
      "21    728522\n",
      "22    705159\n",
      "23    620793\n",
      "dtype: int64\n"
     ]
    }
   ],
   "source": [
    "print(df.groupby(['weekday']).size())\n",
    "print(df.groupby(['hour']).size())"
   ]
  },
  {
   "cell_type": "markdown",
   "metadata": {},
   "source": [
    "Let's move on the other *physical attributes*. When first examining the data, we discovered several *outliers* in the data that simply did not make any sense, such as:\n",
    "\n",
    "* trips that apparently lasted for `> 10000` minutes\n",
    "* cabs that hit speeds above `60mph`\n",
    "* cabs that traveled at `0mph`\n",
    "* tips `800%` of the fare\n",
    "* pickup and dropoff locations in Antarctica\n",
    "\n",
    "We therefore removed these outliers with cutoff values we deemed reasonable for each feature, and dropped unncessary columns in order to simplify the dataframe."
   ]
  },
  {
   "cell_type": "code",
   "execution_count": 29,
   "metadata": {
    "collapsed": true
   },
   "outputs": [],
   "source": [
    "# eliminate trips with unreasonable speeds (in excess of 60mph)\n",
    "df = df[(df.speed < 60.0) & (df.speed > 0.0)]"
   ]
  },
  {
   "cell_type": "markdown",
   "metadata": {},
   "source": [
    "Concerning the cleaning part, we are not done yet...\n",
    "Negative values, trips lasting more than `10` days traveling million of miles. A crazy thing!  So, for fixing that, we can use Google Maps and look for a long, but usual trip, like [this one](https://www.google.com/maps/dir/John+F.+Kennedy+International+Airport,+New+York,+NY+11430,+United+States/W+236th+St,+Bronx,+NY+10463,+USA/@40.7643484,-73.9662754,11z/data=!3m1!4b1!4m14!4m13!1m5!1m1!1s0x89c26650d5404947:0xec4fb213489f11f0!2m2!1d-73.778139!2d40.641311!1m5!1m1!1s0x89c2f3bef6ef0d0d:0x28147b465c25f834!2m2!1d-73.9086987!2d40.8865426!3e0). A trip around `50` minutes for travelling `21.1` miles. Therefore, we can use a maximum of `1` hour (`3,600` seconds) and `25` miles.  "
   ]
  },
  {
   "cell_type": "code",
   "execution_count": 30,
   "metadata": {
    "collapsed": false
   },
   "outputs": [
    {
     "data": {
      "image/png": "[encoded data removed]",
      "text/plain": [
       "<matplotlib.figure.Figure at 0x1187b6828>"
      ]
     },
     "metadata": {
      "image/png": {
       "height": 370,
       "width": 536
      }
     },
     "output_type": "display_data"
    }
   ],
   "source": [
    "# A usual trip has 1 to 6 passengers. So, we can discard the others.\n",
    "ax = df.groupby('passenger_count').size().plot(kind='bar')\n",
    "ax.set_xlabel('passenger count', fontsize=18)\n",
    "ax.set_ylabel('Number of trips', fontsize=18)\n",
    "plt.title('Yellow taxi trips - June 2015')\n",
    "ax.tick_params(labelsize=12)\n",
    "\n",
    "passenger_count = ((df.passenger_count >= 1.0) & (df.passenger_count <= 6.0))\n",
    "trip_time_in_secs = ((df.trip_time_in_secs > 0.0) & (df.trip_time_in_secs <= 3600.0))\n",
    "trip_distance = ((df.trip_distance > 0.0) & (df.trip_distance <= 25.0))\n",
    "\n",
    "df = df[passenger_count & trip_time_in_secs & trip_distance]\n",
    "\n",
    "passenger_count = None\n",
    "trip_time_in_secs = None\n",
    "trip_distance = None"
   ]
  },
  {
   "cell_type": "markdown",
   "metadata": {},
   "source": [
    "Continuing with the attributes, it's the turn of the coordinates, longitude and latitude for pickups and dropoffs. By observing the above dataframe, we notice coordinates that don't even exist! For fix that, we can use only the coordinates satisfying the conditions in the following table:\n",
    "\n",
    "|               | Min           | Max       |\n",
    "| ------------- |:-------------:| ---------:|\n",
    "| Latitude      | 40.459518     | 41.175342 |\n",
    "| Longitude     | −74.361107    | −71,903083|"
   ]
  },
  {
   "cell_type": "code",
   "execution_count": 31,
   "metadata": {
    "collapsed": true
   },
   "outputs": [],
   "source": [
    "# eliminate outliers based on location\n",
    "pickup_latitude = ((df.pickup_latitude >= 40.459518) & (df.pickup_latitude <= 41.175342))\n",
    "pickup_longitude = ((df.pickup_longitude >= -74.361107) & (df.pickup_longitude <= -71.903083))\n",
    "dropoff_latitude = ((df.dropoff_latitude >= 40.459518) & (df.dropoff_latitude <= 41.175342))\n",
    "dropoff_longitude = ((df.dropoff_longitude >= -74.361107) & (df.dropoff_longitude <= -71.903083))\n",
    "\n",
    "df = df[pickup_latitude & pickup_longitude & dropoff_latitude & dropoff_longitude]\n",
    "\n",
    "pickup_latitude = None\n",
    "pickup_longitude = None\n",
    "dropoff_latitude = None\n",
    "dropoff_longitude = None"
   ]
  },
  {
   "cell_type": "markdown",
   "metadata": {},
   "source": [
    "Now, we would like to be able to subset the taxi data by the *neighborhoods* people were travelling to and from in order to discover any *trends* that may be there; thus, we create columns for *pickup and dropoff neighborhood* using geographic boundaries defined using Google maps."
   ]
  },
  {
   "cell_type": "code",
   "execution_count": 32,
   "metadata": {
    "collapsed": false
   },
   "outputs": [],
   "source": [
    "# Make a tuple column for pickup and dropoff latitudes and longitudes\n",
    "df['pickup_lat_long'] = list(zip(df.pickup_latitude, df.pickup_longitude))\n",
    "df['dropoff_lat_long'] = list(zip(df.dropoff_latitude, df.dropoff_longitude))\n",
    "### COMMENT: In Python 3, zip returns an iterator of tuples, like itertools.izip in Python2. \n",
    "### To get a list of tuples, use list(zip(foo, bar)). And to zip until both iterators are exhausted, \n",
    "## you would use itertools.zip_longest.\n",
    "\n",
    "# Define the pickup neighborhood column\n",
    "df['pickup_neighborhood'] = ['Upper East Side' if ((-73.93269 <= longitude <= -73.958506 and (-.400732*longitude + 11.120735 <= latitude <= 1.351248*longitude + 140.720423))\n",
    "                               or (-73.958506 < longitude <= -73.955760 and (1.351248*longitude + 140.690003 <= latitude <= 1.351248*longitude + 140.720423)) \n",
    "                               or (-73.955760 < longitude <= -73.938250 and (1.351248*longitude + 140.690003 <= latitude <= -0.400732*longitude + 11.151410)))\n",
    "                               else 'Upper West Side' if ((-73.996349 <= longitude <= -73.981929 and (-.437663*longitude + 8.388736 <= latitude <= 1.411006*longitude + 145.183292))\n",
    "                               or (-73.981929 < longitude <= -73.971286 and (1.411006*longitude + 145.156835 <= latitude <= 1.411006*longitude + 145.183292)) \n",
    "                               or (-73.971286 < longitude <= -73.958669 and (1.411006*longitude + 145.156835 <= latitude <= -0.437663*longitude + 8.431736)))\n",
    "                               else 'East Harlem' if ((-73.955810 <= longitude <= -73.941562 and (-.410514*longitude + 10.427000 <= latitude <= 1.364892*longitude + 141.729588))\n",
    "                               or (-73.941562 < longitude <= -73.934009 and (1.364892*longitude + 141.701598 <= latitude <= 1.364892*longitude + 141.729588)) \n",
    "                               or (-73.934009 < longitude <= -73.927400 and (1.364892*longitude + 141.701598 <= latitude <= -2.870328*longitude - 171.397205)))\n",
    "                               else 'Harlem' if ((-73.970920 <= longitude <= -73.949376 and (-.434274*longitude + 8.682696 <= latitude <= 1.335965*longitude + 139.629557))\n",
    "                               or (-73.949376 < longitude <= -73.950406 and (1.335965*longitude + 139.590765 <= latitude <= 1.335965*longitude + 139.629557)) \n",
    "                               or (-73.950406 < longitude <= -73.933669 and (1.335965*longitude + 139.590765 <= latitude <= -.434274*longitude + 8.719664)))\n",
    "                               else 'Washington Heights' if ((-73.952561 <= longitude <= -73.934450 and (-.405223*longitude + 10.868172 <= latitude <= 1.704239*longitude + 166.868290))\n",
    "                               or (-73.934450 < longitude <= -73.938313 and (2.030519*longitude + 190.953417 <= latitude <= 1.704239*longitude + 166.868290)) \n",
    "                               or (-73.938313 < longitude <= -73.921147 and (2.030519*longitude + 190.953417 <= latitude <= -.405223*longitude + 10.898228)))\n",
    "                               else 'Chelsea' if ((-74.012918 <= longitude <= -74.004936 and (-.425864*longitude + 9.225036 <= latitude <= 1.46181*longitude + 148.938269))\n",
    "                               or (-74.004936 < longitude <= -73.996181 and (-.425864*longitude + 9.225036 <= latitude <= -.425864*longitude + 9.241076)) \n",
    "                               or (-73.996181 < longitude <= -73.987684 and (1.46181*longitude + 148.905703 <= latitude <= -.425864*longitude + 9.241076)))\n",
    "                               else \"Hell's Kitchen\" if ((-74.005267 <= longitude <= -73.994023 and (-.455589*longitude + 7.041340 <= latitude <= 1.380893*longitude + 142.951146))\n",
    "                               or (-73.994023 < longitude <= -73.993423 and (-.455589*longitude + 7.041340 <= latitude <= -.455589*longitude + 7.062455)) \n",
    "                               or (-73.993423 < longitude <= -73.982265 and (1.380893*longitude + 142.928930 <= latitude <= -.455589*longitude + 7.062455)))\n",
    "                               else 'Midtown' if ((-73.993851 <= longitude <= -73.984495 and (-.401974*longitude + 11.008620 <= latitude <= 1.389750*longitude + 143.583485))\n",
    "                               or (-73.984495 < longitude <= -73.981491 and (1.389750*longitude + 143.568415 <= latitude <= 1.389750*longitude + 143.583485)) \n",
    "                               or (-73.981491 < longitude <= -73.973080 and (1.389750*longitude + 143.568415 <= latitude <= -.401974*longitude + 11.029072)))\n",
    "                               else 'Midtown East' if ((-73.984495 <= longitude <= -73.972908 and (-.425289*longitude + 9.268809 <= latitude <= 1.369121*longitude + 142.042124))\n",
    "                               or (-73.972908 < longitude <= -73.966986 and (-.425289*longitude + 9.268809 <= latitude <= -.425289*longitude + 9.289603)) \n",
    "                               or (-73.966986 < longitude <= -73.959004 and (1.369121*longitude + 142.017172 <= latitude <= -.425289*longitude + 9.289603)))\n",
    "                               else 'Murray Hill and Gramercy' if ((-73.996782 <= longitude <= -73.987684 and (-.398282*longitude + 11.265240 <= latitude <= 1.422401*longitude + 145.989923))\n",
    "                               or (-73.987684 < longitude <= -73.971634 and (-.398282*longitude + 11.265240 <= latitude <= -.398282*longitude + 11.281685)) \n",
    "                               or (-73.971634 < longitude <= -73.963909 and (1.422401*longitude + 145.944136 <= latitude <= -.398282*longitude + 11.281685)))\n",
    "                               else 'East Village' if ((-73.992711 <= longitude <= -73.989621 and (-.430977*longitude + 8.834987 <= latitude <= 3.283819*longitude + 283.702814))\n",
    "                               or (-73.989621 < longitude <= -73.972626 and (-.430977*longitude + 8.834987 <= latitude <= -.430977*longitude + 8.846466)) \n",
    "                               or (-73.972626 < longitude <= -73.971511 and (3.283819*longitude + 283.635539 <= latitude <= -.430977*longitude + 8.846466)))\n",
    "                               else 'West Village' if ((-74.014761 <= longitude <= -74.009354 and (-.391182*longitude + 11.778190 <= latitude <= 1.374746*longitude + 142.486385))\n",
    "                               or (-74.009354 < longitude <= -74.003603 and (-.391182*longitude + 11.778190 <= latitude <= -.391182*longitude + 11.791224)) \n",
    "                               or (-74.003603 < longitude <= -73.996222 and (1.374746*longitude + 142.463195 <= latitude <= -.391182*longitude + 11.791224)))\n",
    "                               else 'Greenwich Village' if ((-74.002925 <= longitude <= -73.996230 and (-.454489*longitude + 7.094597 <= latitude <= 1.359970*longitude + 141.369870))\n",
    "                               or (-73.996230 < longitude <= -73.992711 and (-.454489*longitude + 7.094597 <= latitude <= -.454489*longitude + 7.106744)) \n",
    "                               or (-73.992711 < longitude <= -73.989792 and (3.498458*longitude + 299.584471 <= latitude <= -.454489*longitude + 7.106744)))\n",
    "                               else 'Financial District' if ((-74.017118 <= longitude <= -74.012741 and (-.689918*longitude - 10.363466 <= latitude <= 3.348184*longitude + 288.525206))\n",
    "                               or (-74.012741 < longitude <= -74.010166 and (-.689918*longitude - 10.363466 <= latitude <= -.689918*longitude - 10.345791)) \n",
    "                               or (-74.010166 < longitude <= -73.999351 and (3.348184*longitude + 288.471136 <= latitude <= -.689918*longitude - 10.345791)))\n",
    "                               else 'Lower East Side' if ((-74.001139 <= longitude <= -73.992642 and (-.296245*longitude + 18.787784 <= latitude <= 2.520648*longitude + 227.241074))\n",
    "                               or (-73.992642 < longitude <= -73.978223 and (-.296245*longitude + 18.787784 <= latitude <= -.296245*longitude + 18.804157)) \n",
    "                               or (-73.978223 < longitude <= -73.973759 and (2.520648*longitude + 227.180321 <= latitude <= -.296245*longitude + 18.804157)))\n",
    "                               else 'Soho' if ((-74.017018 <= longitude <= -74.011096 and (-.313095*longitude + 17.540902 <= latitude <= 1.631911*longitude + 161.509288))\n",
    "                               or (-74.011096 < longitude <= -74.001225 and (-.313095*longitude + 17.540902 <= latitude <= -.313095*longitude + 17.557262)) \n",
    "                               or (-74.001225 < longitude <= -73.992814 and (1.631911*longitude + 161.473729 <= latitude <= -.313095*longitude + 17.557262)))\n",
    "                               else 'Central Park' if ((-73.981834 <= longitude <= -73.972994 and (-.423978*longitude + 9.401321 <= latitude <= 1.364612*longitude + 141.724251))\n",
    "                               or (-73.972994 < longitude <= -73.957716 and (1.364612*longitude + 141.708678 <= latitude <= 1.364612*longitude + 141.724251)) \n",
    "                               or (-73.957716 < longitude <= -73.949133 and (1.364612*longitude + 141.708678 <= latitude <= -.423978*longitude + 9.443998)))\n",
    "                               else 'New Jersey' if (latitude >= 1.691689*longitude + 165.960150)\n",
    "                               else 'Brooklyn' if (-74.042158 <= longitude <= -73.858137 and latitude < 40.700187)\n",
    "                               else 'Laguardia Airport' if (-73.889398 <= longitude <= -73.855924 and 40.761247 <= latitude <= 40.785557)\n",
    "                               else 'JFK Airport' if (-73.833340 <= longitude <= -73.747166 and 40.629567 <= latitude <= 40.670202)\n",
    "                               else 'Queens' if (-73.940543 <= longitude <= -73.724937 and 40.672374 <= latitude <= 40.766049)\n",
    "                               else 'Other' for latitude, longitude in df['pickup_lat_long']]\n",
    "\n",
    "# Define the dropoff neighborhood column\n",
    "df['dropoff_neighborhood'] = ['Upper East Side' if ((-73.93269 <= longitude <= -73.958506 and (-.400732*longitude + 11.120735 <= latitude <= 1.351248*longitude + 140.720423))\n",
    "                               or (-73.958506 < longitude <= -73.955760 and (1.351248*longitude + 140.690003 <= latitude <= 1.351248*longitude + 140.720423)) \n",
    "                               or (-73.955760 < longitude <= -73.938250 and (1.351248*longitude + 140.690003 <= latitude <= -0.400732*longitude + 11.151410)))\n",
    "                               else 'Upper West Side' if ((-73.996349 <= longitude <= -73.981929 and (-.437663*longitude + 8.388736 <= latitude <= 1.411006*longitude + 145.183292))\n",
    "                               or (-73.981929 < longitude <= -73.971286 and (1.411006*longitude + 145.156835 <= latitude <= 1.411006*longitude + 145.183292)) \n",
    "                               or (-73.971286 < longitude <= -73.958669 and (1.411006*longitude + 145.156835 <= latitude <= -0.437663*longitude + 8.431736)))\n",
    "                               else 'East Harlem' if ((-73.955810 <= longitude <= -73.941562 and (-.410514*longitude + 10.427000 <= latitude <= 1.364892*longitude + 141.729588))\n",
    "                               or (-73.941562 < longitude <= -73.934009 and (1.364892*longitude + 141.701598 <= latitude <= 1.364892*longitude + 141.729588)) \n",
    "                               or (-73.934009 < longitude <= -73.927400 and (1.364892*longitude + 141.701598 <= latitude <= -2.870328*longitude - 171.397205)))\n",
    "                               else 'Harlem' if ((-73.970920 <= longitude <= -73.949376 and (-.434274*longitude + 8.682696 <= latitude <= 1.335965*longitude + 139.629557))\n",
    "                               or (-73.949376 < longitude <= -73.950406 and (1.335965*longitude + 139.590765 <= latitude <= 1.335965*longitude + 139.629557)) \n",
    "                               or (-73.950406 < longitude <= -73.933669 and (1.335965*longitude + 139.590765 <= latitude <= -.434274*longitude + 8.719664)))\n",
    "                               else 'Washington Heights' if ((-73.952561 <= longitude <= -73.934450 and (-.405223*longitude + 10.868172 <= latitude <= 1.704239*longitude + 166.868290))\n",
    "                               or (-73.934450 < longitude <= -73.938313 and (2.030519*longitude + 190.953417 <= latitude <= 1.704239*longitude + 166.868290)) \n",
    "                               or (-73.938313 < longitude <= -73.921147 and (2.030519*longitude + 190.953417 <= latitude <= -.405223*longitude + 10.898228)))\n",
    "                               else 'Chelsea' if ((-74.012918 <= longitude <= -74.004936 and (-.425864*longitude + 9.225036 <= latitude <= 1.46181*longitude + 148.938269))\n",
    "                               or (-74.004936 < longitude <= -73.996181 and (-.425864*longitude + 9.225036 <= latitude <= -.425864*longitude + 9.241076)) \n",
    "                               or (-73.996181 < longitude <= -73.987684 and (1.46181*longitude + 148.905703 <= latitude <= -.425864*longitude + 9.241076)))\n",
    "                               else \"Hell's Kitchen\" if ((-74.005267 <= longitude <= -73.994023 and (-.455589*longitude + 7.041340 <= latitude <= 1.380893*longitude + 142.951146))\n",
    "                               or (-73.994023 < longitude <= -73.993423 and (-.455589*longitude + 7.041340 <= latitude <= -.455589*longitude + 7.062455)) \n",
    "                               or (-73.993423 < longitude <= -73.982265 and (1.380893*longitude + 142.928930 <= latitude <= -.455589*longitude + 7.062455)))\n",
    "                               else 'Midtown' if ((-73.993851 <= longitude <= -73.984495 and (-.401974*longitude + 11.008620 <= latitude <= 1.389750*longitude + 143.583485))\n",
    "                               or (-73.984495 < longitude <= -73.981491 and (1.389750*longitude + 143.568415 <= latitude <= 1.389750*longitude + 143.583485)) \n",
    "                               or (-73.981491 < longitude <= -73.973080 and (1.389750*longitude + 143.568415 <= latitude <= -.401974*longitude + 11.029072)))\n",
    "                               else 'Midtown East' if ((-73.984495 <= longitude <= -73.972908 and (-.425289*longitude + 9.268809 <= latitude <= 1.369121*longitude + 142.042124))\n",
    "                               or (-73.972908 < longitude <= -73.966986 and (-.425289*longitude + 9.268809 <= latitude <= -.425289*longitude + 9.289603)) \n",
    "                               or (-73.966986 < longitude <= -73.959004 and (1.369121*longitude + 142.017172 <= latitude <= -.425289*longitude + 9.289603)))\n",
    "                               else 'Murray Hill and Gramercy' if ((-73.996782 <= longitude <= -73.987684 and (-.398282*longitude + 11.265240 <= latitude <= 1.422401*longitude + 145.989923))\n",
    "                               or (-73.987684 < longitude <= -73.971634 and (-.398282*longitude + 11.265240 <= latitude <= -.398282*longitude + 11.281685)) \n",
    "                               or (-73.971634 < longitude <= -73.963909 and (1.422401*longitude + 145.944136 <= latitude <= -.398282*longitude + 11.281685)))\n",
    "                               else 'East Village' if ((-73.992711 <= longitude <= -73.989621 and (-.430977*longitude + 8.834987 <= latitude <= 3.283819*longitude + 283.702814))\n",
    "                               or (-73.989621 < longitude <= -73.972626 and (-.430977*longitude + 8.834987 <= latitude <= -.430977*longitude + 8.846466)) \n",
    "                               or (-73.972626 < longitude <= -73.971511 and (3.283819*longitude + 283.635539 <= latitude <= -.430977*longitude + 8.846466)))\n",
    "                               else 'West Village' if ((-74.014761 <= longitude <= -74.009354 and (-.391182*longitude + 11.778190 <= latitude <= 1.374746*longitude + 142.486385))\n",
    "                               or (-74.009354 < longitude <= -74.003603 and (-.391182*longitude + 11.778190 <= latitude <= -.391182*longitude + 11.791224)) \n",
    "                               or (-74.003603 < longitude <= -73.996222 and (1.374746*longitude + 142.463195 <= latitude <= -.391182*longitude + 11.791224)))\n",
    "                               else 'Greenwich Village' if ((-74.002925 <= longitude <= -73.996230 and (-.454489*longitude + 7.094597 <= latitude <= 1.359970*longitude + 141.369870))\n",
    "                               or (-73.996230 < longitude <= -73.992711 and (-.454489*longitude + 7.094597 <= latitude <= -.454489*longitude + 7.106744)) \n",
    "                               or (-73.992711 < longitude <= -73.989792 and (3.498458*longitude + 299.584471 <= latitude <= -.454489*longitude + 7.106744)))\n",
    "                               else 'Financial District' if ((-74.017118 <= longitude <= -74.012741 and (-.689918*longitude - 10.363466 <= latitude <= 3.348184*longitude + 288.525206))\n",
    "                               or (-74.012741 < longitude <= -74.010166 and (-.689918*longitude - 10.363466 <= latitude <= -.689918*longitude - 10.345791)) \n",
    "                               or (-74.010166 < longitude <= -73.999351 and (3.348184*longitude + 288.471136 <= latitude <= -.689918*longitude - 10.345791)))\n",
    "                               else 'Lower East Side' if ((-74.001139 <= longitude <= -73.992642 and (-.296245*longitude + 18.787784 <= latitude <= 2.520648*longitude + 227.241074))\n",
    "                               or (-73.992642 < longitude <= -73.978223 and (-.296245*longitude + 18.787784 <= latitude <= -.296245*longitude + 18.804157)) \n",
    "                               or (-73.978223 < longitude <= -73.973759 and (2.520648*longitude + 227.180321 <= latitude <= -.296245*longitude + 18.804157)))\n",
    "                               else 'Soho' if ((-74.017018 <= longitude <= -74.011096 and (-.313095*longitude + 17.540902 <= latitude <= 1.631911*longitude + 161.509288))\n",
    "                               or (-74.011096 < longitude <= -74.001225 and (-.313095*longitude + 17.540902 <= latitude <= -.313095*longitude + 17.557262)) \n",
    "                               or (-74.001225 < longitude <= -73.992814 and (1.631911*longitude + 161.473729 <= latitude <= -.313095*longitude + 17.557262)))\n",
    "                               else 'Central Park' if ((-73.981834 <= longitude <= -73.972994 and (-.423978*longitude + 9.401321 <= latitude <= 1.364612*longitude + 141.724251))\n",
    "                               or (-73.972994 < longitude <= -73.957716 and (1.364612*longitude + 141.708678 <= latitude <= 1.364612*longitude + 141.724251)) \n",
    "                               or (-73.957716 < longitude <= -73.949133 and (1.364612*longitude + 141.708678 <= latitude <= -.423978*longitude + 9.443998)))\n",
    "                               else 'New Jersey' if (latitude >= 1.691689*longitude + 165.960150)\n",
    "                               else 'Brooklyn' if (-74.042158 <= longitude <= -73.858137 and latitude < 40.700187)\n",
    "                               else 'Laguardia Airport' if (-73.889398 <= longitude <= -73.855924 and 40.761247 <= latitude <= 40.785557)\n",
    "                               else 'JFK Airport' if (-73.833340 <= longitude <= -73.747166 and 40.629567 <= latitude <= 40.670202)\n",
    "                               else 'Queens' if (-73.940543 <= longitude <= -73.724937 and 40.672374 <= latitude <= 40.766049)\n",
    "                               else 'Other' for latitude, longitude in df['dropoff_lat_long']]"
   ]
  },
  {
   "cell_type": "markdown",
   "metadata": {
    "collapsed": true
   },
   "source": [
    "At this stage, we believe that the data set is pretty much clean, and set up to analyze actual trends. \n",
    "This is *our dataframe* we begin to work with"
   ]
  },
  {
   "cell_type": "markdown",
   "metadata": {
    "collapsed": true
   },
   "source": [
    "## Predictive Task "
   ]
  },
  {
   "cell_type": "markdown",
   "metadata": {
    "collapsed": true
   },
   "source": [
    "The predictive task that is being analyzed is the percentage of tip in relation to the total amount paid for taxi trips in New York City (NYC). The predictive task was chosen due to our curiosity of what factors causes people to tip higher percentages. Ultimately, this analysis can be used to assist taxi drivers in considering these factors in order to better understand their business and how they can maximize the tip received."
   ]
  },
  {
   "cell_type": "markdown",
   "metadata": {},
   "source": [
    "### Preparing the notebook "
   ]
  },
  {
   "cell_type": "code",
   "execution_count": null,
   "metadata": {
    "collapsed": false
   },
   "outputs": [],
   "source": [
    "import matplotlib as plt\n",
    "import warnings\n",
    "warnings.filterwarnings('ignore')\n",
    "\n",
    "pd.options.display.mpl_style = 'default' # Better Styling  \n",
    "new_style = {'grid': False} # Remove grid  \n",
    "matplotlib.rc('axes', **new_style)  \n",
    "from matplotlib import rcParams  \n",
    "rcParams['figure.figsize'] = (15, 15) # Size of figure  \n",
    "rcParams['figure.dpi'] = 125\n",
    "\n",
    "P = df.plot(kind='scatter', x='pickup_longitude', y='pickup_latitude',\\\n",
    "            color='white',xlim=(-74.36,−71,90),ylim=(40.61, 40.91),s=.02,alpha=.6)\n",
    "\n",
    "P.set_axis_bgcolor('black') # Background Color"
   ]
  },
  {
   "cell_type": "markdown",
   "metadata": {
    "collapsed": true
   },
   "source": [
    "We think it might be a good idea to actually plot the *geographic locations* of the taxi pickups and dropoffs in order to gain a better understanding of where taxi trips are most concentrated: "
   ]
  },
  {
   "cell_type": "code",
   "execution_count": null,
   "metadata": {
    "collapsed": false
   },
   "outputs": [],
   "source": [
    "import seaborn as sns \n",
    "\n",
    "plt.figure(figsize =(20,8))\n",
    "plt.scatter(df['pickup_longitude'],df['pickup_latitude'],s=1,alpha=0.8,c='r')\n",
    "plt.xlabel('Longitude')\n",
    "plt.ylabel('Latitude')\n",
    "plt.title('Pickup Location')\n",
    "plt.xlim(-74.2, -73.6)\n",
    "plt.ylim(40.55, 40.95)\n",
    "plt.show()\n",
    "\n",
    "plt.figure(figsize =(20,8))\n",
    "plt.scatter(df['dropoff_longitude'],df['dropoff_latitude'],s=1,alpha=0.8,c='b')\n",
    "plt.xlabel('Longitude')\n",
    "plt.ylabel('Latitude')\n",
    "plt.title('Dropoff Location')\n",
    "plt.xlim(-74.2, -73.6)\n",
    "plt.ylim(40.55, 40.95)\n",
    "plt.show()"
   ]
  },
  {
   "cell_type": "markdown",
   "metadata": {
    "collapsed": true
   },
   "source": [
    "We see that the vast majority of trips are clustered in Manhattan and in two smaller spots outside the immediate vacinity of the city. Searching for the values of those latitudes and longitudes in Google Maps led us to discover that those smaller spots are reflective of the Laguardia and JFK Airports. As it turns out, \\$52 is the flat rate for a trip from Manhattan to JFK Airport, explaining the spike in fare amount noted in the histogram above.\n",
    "We then set about trying to figure out if we could determine any trends in the data that would suggest a high correlation between them and the amount of a fare. We assumed that trip time and trip distance would likely be the most highly correlated measurements, as taxi companies use a direct calculation in determining fare that relies upon trip time and distance. To confirm this, we plotted them below."
   ]
  },
  {
   "cell_type": "code",
   "execution_count": null,
   "metadata": {
    "collapsed": false
   },
   "outputs": [],
   "source": [
    "# plot a simple histogram\n",
    "import seaborn as sns \n",
    "plt.figure(figsize =(20,8))\n",
    "plt.hist(df['fare_amount'],bins=100)\n",
    "plt.xlabel('Fare')\n",
    "plt.ylabel('Frequency')\n",
    "plt.title('Fare Amount')\n",
    "\n"
   ]
  },
  {
   "cell_type": "markdown",
   "metadata": {},
   "source": [
    "We looked at tip as a percentage of the total cost of a trip, as clearly longer trips with higher fares will be correlated with higher tips."
   ]
  },
  {
   "cell_type": "code",
   "execution_count": null,
   "metadata": {
    "collapsed": false
   },
   "outputs": [],
   "source": [
    "df.percent_tip.mean() * 100"
   ]
  },
  {
   "cell_type": "markdown",
   "metadata": {},
   "source": [
    "Clearly, the average tip for people paying with cards is considerably higher than for people paying with cash, to the point of being totally unreasonable. This led us to the conclusion that there must be some kind of fraud going on when people pay with cash - specifically, cab drivers are likely not reporting their cash tips and simply pocketing the entirety of it. Thus for the purpose of an accurate analysis of tips, we decided to only look at trips where passengers paid card. This way we could be sure that the tip was accurately reported. We also decided that an interesting goal of this analysis might be to predict tip percentage in order to determine whether or not a taxi driver is committing fraud by under-reporting tips - if our predictions are accurate, we will be able to guess what tip a driver should have received based on the features of their trip, and then if the reported tip is much less than this we will have reason to be suspicious."
   ]
  },
  {
   "cell_type": "code",
   "execution_count": null,
   "metadata": {
    "collapsed": true
   },
   "outputs": [],
   "source": []
  }
 ],
 "metadata": {
  "kernelspec": {
   "display_name": "Python 3",
   "language": "python",
   "name": "python3"
  },
  "language_info": {
   "codemirror_mode": {
    "name": "ipython",
    "version": 3
   },
   "file_extension": ".py",
   "mimetype": "text/x-python",
   "name": "python",
   "nbconvert_exporter": "python",
   "pygments_lexer": "ipython3",
   "version": "3.5.1"
  },
  "widgets": {
   "state": {},
   "version": "1.1.2"
  }
 },
 "nbformat": 4,
 "nbformat_minor": 0
}
