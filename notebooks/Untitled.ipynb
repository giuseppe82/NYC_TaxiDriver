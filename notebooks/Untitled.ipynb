{
 "cells": [
  {
   "cell_type": "code",
   "execution_count": null,
   "metadata": {
    "collapsed": true
   },
   "outputs": [],
   "source": [
    "import matplotlib as plt\n",
    "import warnings\n",
    "warnings.filterwarnings('ignore')\n",
    "\n",
    "pd.options.display.mpl_style = 'default' # Better Styling  \n",
    "new_style = {'grid': False} # Remove grid  \n",
    "matplotlib.rc('axes', **new_style)  \n",
    "from matplotlib import rcParams  \n",
    "rcParams['figure.figsize'] = (15, 15) # Size of figure  \n",
    "rcParams['figure.dpi'] = 125\n",
    "\n",
    "P = df.plot(kind='scatter', x='pickup_longitude', y='pickup_latitude',\\\n",
    "            color='white',xlim=(-74.36,−71,90),ylim=(40.61, 40.91),s=.02,alpha=.6)\n",
    "\n",
    "P.set_axis_bgcolor('black') # Background Color"
   ]
  }
 ],
 "metadata": {
  "kernelspec": {
   "display_name": "Python 3",
   "language": "python",
   "name": "python3"
  },
  "language_info": {
   "codemirror_mode": {
    "name": "ipython",
    "version": 3
   },
   "file_extension": ".py",
   "mimetype": "text/x-python",
   "name": "python",
   "nbconvert_exporter": "python",
   "pygments_lexer": "ipython3",
   "version": "3.5.1"
  },
  "widgets": {
   "state": {},
   "version": "1.1.2"
  }
 },
 "nbformat": 4,
 "nbformat_minor": 0
}
